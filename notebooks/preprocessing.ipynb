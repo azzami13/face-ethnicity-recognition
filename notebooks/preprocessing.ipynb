{
  "cells": [
    {
      "cell_type": "markdown",
      "metadata": {},
      "source": [
        "# Preprocessing Dataset\n",
        "Notebook ini digunakan untuk melakukan konversi gambar ke grayscale dan menerapkan berbagai filter."
      ]
    },
    {
      "cell_type": "code",
      "execution_count": null,
      "metadata": {},
      "outputs": [],
      "source": [
        "import cv2\n",
        "import matplotlib.pyplot as plt\n",
        "from src.utils import *\n",
        "import os\n",
        "\n",
        "# Ganti path sesuai gambar yang tersedia\n",
        "image_path = 'dataset/budi/jawa/img1.jpg'\n",
        "image = cv2.imread(image_path)\n",
        "\n",
        "gray = convert_to_grayscale(image)\n",
        "blur = apply_gaussian_blur(image)\n",
        "sharpened = apply_sharpen(image)\n",
        "edges = apply_canny_edge(gray)\n",
        "\n",
        "# Tampilkan hasil\n",
        "titles = ['Original', 'Grayscale', 'Blur', 'Sharpen', 'Edge (Canny)']\n",
        "images = [image, gray, blur, sharpened, edges]\n",
        "\n",
        "plt.figure(figsize=(15,5))\n",
        "for i in range(len(images)):\n",
        "    cmap = 'gray' if len(images[i].shape) == 2 else None\n",
        "    plt.subplot(1, 5, i+1)\n",
        "    plt.imshow(cv2.cvtColor(images[i], cv2.COLOR_BGR2RGB) if cmap is None else images[i], cmap=cmap)\n",
        "    plt.title(titles[i])\n",
        "    plt.axis('off')\n",
        "plt.show()"
      ]
    }
  ],
  "metadata": {},
  "nbformat": 4,
  "nbformat_minor": 2
}